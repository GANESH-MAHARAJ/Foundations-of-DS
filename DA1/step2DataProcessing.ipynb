{
 "cells": [
  {
   "cell_type": "markdown",
   "metadata": {},
   "source": [
    "# Data Processing \n",
    "i. Clean and transform raw data into a structured format (handling missing values, \n",
    "standardizing fields). \n",
    "\n",
    "ii. Merge data from both sources into a single structured dataset. "
   ]
  },
  {
   "cell_type": "code",
   "execution_count": 2,
   "metadata": {},
   "outputs": [],
   "source": [
    "import pandas as pd"
   ]
  },
  {
   "cell_type": "markdown",
   "metadata": {},
   "source": [
    "Let's see the data sets"
   ]
  },
  {
   "cell_type": "code",
   "execution_count": 3,
   "metadata": {},
   "outputs": [
    {
     "name": "stdout",
     "output_type": "stream",
     "text": [
      "shape :  (250, 5)\n"
     ]
    },
    {
     "data": {
      "text/html": [
       "<div>\n",
       "<style scoped>\n",
       "    .dataframe tbody tr th:only-of-type {\n",
       "        vertical-align: middle;\n",
       "    }\n",
       "\n",
       "    .dataframe tbody tr th {\n",
       "        vertical-align: top;\n",
       "    }\n",
       "\n",
       "    .dataframe thead th {\n",
       "        text-align: right;\n",
       "    }\n",
       "</style>\n",
       "<table border=\"1\" class=\"dataframe\">\n",
       "  <thead>\n",
       "    <tr style=\"text-align: right;\">\n",
       "      <th></th>\n",
       "      <th>Title</th>\n",
       "      <th>Year</th>\n",
       "      <th>IMDb Rating</th>\n",
       "      <th>Runtime</th>\n",
       "      <th>Votes</th>\n",
       "    </tr>\n",
       "  </thead>\n",
       "  <tbody>\n",
       "    <tr>\n",
       "      <th>0</th>\n",
       "      <td>1. The Shawshank Redemption</td>\n",
       "      <td>1994</td>\n",
       "      <td>9.3 (3M)</td>\n",
       "      <td>2h 22m</td>\n",
       "      <td>(3M</td>\n",
       "    </tr>\n",
       "    <tr>\n",
       "      <th>1</th>\n",
       "      <td>2. The Godfather</td>\n",
       "      <td>1972</td>\n",
       "      <td>9.2 (2.1M)</td>\n",
       "      <td>2h 55m</td>\n",
       "      <td>(2.1M</td>\n",
       "    </tr>\n",
       "    <tr>\n",
       "      <th>2</th>\n",
       "      <td>3. The Dark Knight</td>\n",
       "      <td>2008</td>\n",
       "      <td>9.0 (3M)</td>\n",
       "      <td>2h 32m</td>\n",
       "      <td>(3M</td>\n",
       "    </tr>\n",
       "    <tr>\n",
       "      <th>3</th>\n",
       "      <td>4. The Godfather Part II</td>\n",
       "      <td>1974</td>\n",
       "      <td>9.0 (1.4M)</td>\n",
       "      <td>3h 22m</td>\n",
       "      <td>(1.4M</td>\n",
       "    </tr>\n",
       "    <tr>\n",
       "      <th>4</th>\n",
       "      <td>5. 12 Angry Men</td>\n",
       "      <td>1957</td>\n",
       "      <td>9.0 (914K)</td>\n",
       "      <td>1h 36m</td>\n",
       "      <td>(914K</td>\n",
       "    </tr>\n",
       "  </tbody>\n",
       "</table>\n",
       "</div>"
      ],
      "text/plain": [
       "                         Title  Year IMDb Rating Runtime   Votes\n",
       "0  1. The Shawshank Redemption  1994    9.3 (3M)  2h 22m     (3M\n",
       "1             2. The Godfather  1972  9.2 (2.1M)  2h 55m   (2.1M\n",
       "2           3. The Dark Knight  2008    9.0 (3M)  2h 32m     (3M\n",
       "3     4. The Godfather Part II  1974  9.0 (1.4M)  3h 22m   (1.4M\n",
       "4              5. 12 Angry Men  1957  9.0 (914K)  1h 36m   (914K"
      ]
     },
     "execution_count": 3,
     "metadata": {},
     "output_type": "execute_result"
    }
   ],
   "source": [
    "imdb_df = pd.read_csv('imdb.csv')\n",
    "print('shape : ',imdb_df.shape)\n",
    "imdb_df.head()"
   ]
  },
  {
   "cell_type": "code",
   "execution_count": 4,
   "metadata": {},
   "outputs": [
    {
     "name": "stdout",
     "output_type": "stream",
     "text": [
      "shape :  (16584, 5)\n"
     ]
    },
    {
     "data": {
      "text/html": [
       "<div>\n",
       "<style scoped>\n",
       "    .dataframe tbody tr th:only-of-type {\n",
       "        vertical-align: middle;\n",
       "    }\n",
       "\n",
       "    .dataframe tbody tr th {\n",
       "        vertical-align: top;\n",
       "    }\n",
       "\n",
       "    .dataframe thead th {\n",
       "        text-align: right;\n",
       "    }\n",
       "</style>\n",
       "<table border=\"1\" class=\"dataframe\">\n",
       "  <thead>\n",
       "    <tr style=\"text-align: right;\">\n",
       "      <th></th>\n",
       "      <th>Title</th>\n",
       "      <th>Year</th>\n",
       "      <th>Metascore</th>\n",
       "      <th>MPAA Rating</th>\n",
       "      <th>Short Description</th>\n",
       "    </tr>\n",
       "  </thead>\n",
       "  <tbody>\n",
       "    <tr>\n",
       "      <th>0</th>\n",
       "      <td>Dekalog (1988)</td>\n",
       "      <td>1996.0</td>\n",
       "      <td>100.0</td>\n",
       "      <td>TV-MA</td>\n",
       "      <td>This masterwork by Krzysztof Kieślowski is one...</td>\n",
       "    </tr>\n",
       "    <tr>\n",
       "      <th>1</th>\n",
       "      <td>The Conformist</td>\n",
       "      <td>1970.0</td>\n",
       "      <td>100.0</td>\n",
       "      <td>R</td>\n",
       "      <td>Set in Rome in the 1930s, this re-release of B...</td>\n",
       "    </tr>\n",
       "    <tr>\n",
       "      <th>2</th>\n",
       "      <td>The Leopard (re-release)</td>\n",
       "      <td>2004.0</td>\n",
       "      <td>100.0</td>\n",
       "      <td>PG</td>\n",
       "      <td>Set in Sicily in 1860, Luchino Visconti's spec...</td>\n",
       "    </tr>\n",
       "    <tr>\n",
       "      <th>3</th>\n",
       "      <td>The Godfather</td>\n",
       "      <td>1972.0</td>\n",
       "      <td>100.0</td>\n",
       "      <td>TV-14</td>\n",
       "      <td>Francis Ford Coppola's epic features Marlon Br...</td>\n",
       "    </tr>\n",
       "    <tr>\n",
       "      <th>4</th>\n",
       "      <td>Lawrence of Arabia (re-release)</td>\n",
       "      <td>2002.0</td>\n",
       "      <td>100.0</td>\n",
       "      <td>Approved</td>\n",
       "      <td>The 40th anniversary re-release of David Lean'...</td>\n",
       "    </tr>\n",
       "  </tbody>\n",
       "</table>\n",
       "</div>"
      ],
      "text/plain": [
       "                             Title    Year  Metascore MPAA Rating  \\\n",
       "0                   Dekalog (1988)  1996.0      100.0       TV-MA   \n",
       "1                   The Conformist  1970.0      100.0           R   \n",
       "2         The Leopard (re-release)  2004.0      100.0          PG   \n",
       "3                    The Godfather  1972.0      100.0       TV-14   \n",
       "4  Lawrence of Arabia (re-release)  2002.0      100.0    Approved   \n",
       "\n",
       "                                   Short Description  \n",
       "0  This masterwork by Krzysztof Kieślowski is one...  \n",
       "1  Set in Rome in the 1930s, this re-release of B...  \n",
       "2  Set in Sicily in 1860, Luchino Visconti's spec...  \n",
       "3  Francis Ford Coppola's epic features Marlon Br...  \n",
       "4  The 40th anniversary re-release of David Lean'...  "
      ]
     },
     "execution_count": 4,
     "metadata": {},
     "output_type": "execute_result"
    }
   ],
   "source": [
    "mc_df = pd.read_csv('metacritic_movies.csv')\n",
    "print('shape : ',mc_df.shape)\n",
    "mc_df.head()"
   ]
  },
  {
   "cell_type": "code",
   "execution_count": 5,
   "metadata": {},
   "outputs": [
    {
     "name": "stdout",
     "output_type": "stream",
     "text": [
      "imdb null values :  Title          0\n",
      "Year           0\n",
      "IMDb Rating    0\n",
      "Runtime        0\n",
      "Votes          0\n",
      "dtype: int64\n",
      "\n",
      "\n",
      "metacritic null values :  Title                   0\n",
      "Year                  123\n",
      "Metascore               9\n",
      "MPAA Rating          1556\n",
      "Short Description       0\n",
      "dtype: int64\n"
     ]
    }
   ],
   "source": [
    "# checking if there are any null values\n",
    "print('imdb null values : ',imdb_df.isnull().sum())\n",
    "print('\\n\\nmetacritic null values : ',mc_df.isnull().sum())"
   ]
  },
  {
   "cell_type": "code",
   "execution_count": 6,
   "metadata": {},
   "outputs": [
    {
     "data": {
      "text/plain": [
       "np.float64(10.178485287023637)"
      ]
     },
     "execution_count": 6,
     "metadata": {},
     "output_type": "execute_result"
    }
   ],
   "source": [
    "percent_of_na = mc_df.isnull().sum().sum() * 100 / mc_df.shape[0]\n",
    "percent_of_na"
   ]
  },
  {
   "cell_type": "markdown",
   "metadata": {},
   "source": [
    "We have no null values in IMDB dataset, and some nulls in metacritic"
   ]
  },
  {
   "cell_type": "markdown",
   "metadata": {},
   "source": [
    "We drop the records of null values as generally in large datasets we can drop null records <=10"
   ]
  },
  {
   "cell_type": "code",
   "execution_count": 7,
   "metadata": {},
   "outputs": [
    {
     "name": "stdout",
     "output_type": "stream",
     "text": [
      "Remaining records: (15005, 5)\n"
     ]
    }
   ],
   "source": [
    "mc_df = mc_df.dropna()\n",
    "mc_df = mc_df.reset_index(drop=True)\n",
    "\n",
    "print(\"Remaining records:\", mc_df.shape)"
   ]
  },
  {
   "cell_type": "markdown",
   "metadata": {},
   "source": [
    "### Data Cleaning and Standardizing of <b style='color : green'>IMDB</b> DATASET"
   ]
  },
  {
   "cell_type": "markdown",
   "metadata": {},
   "source": [
    "Now let's clean IMDB dataset columns"
   ]
  },
  {
   "cell_type": "code",
   "execution_count": 8,
   "metadata": {},
   "outputs": [
    {
     "data": {
      "text/html": [
       "<div>\n",
       "<style scoped>\n",
       "    .dataframe tbody tr th:only-of-type {\n",
       "        vertical-align: middle;\n",
       "    }\n",
       "\n",
       "    .dataframe tbody tr th {\n",
       "        vertical-align: top;\n",
       "    }\n",
       "\n",
       "    .dataframe thead th {\n",
       "        text-align: right;\n",
       "    }\n",
       "</style>\n",
       "<table border=\"1\" class=\"dataframe\">\n",
       "  <thead>\n",
       "    <tr style=\"text-align: right;\">\n",
       "      <th></th>\n",
       "      <th>Title</th>\n",
       "      <th>Year</th>\n",
       "      <th>IMDb Rating</th>\n",
       "      <th>Runtime</th>\n",
       "      <th>Votes</th>\n",
       "    </tr>\n",
       "  </thead>\n",
       "  <tbody>\n",
       "    <tr>\n",
       "      <th>0</th>\n",
       "      <td>1. The Shawshank Redemption</td>\n",
       "      <td>1994</td>\n",
       "      <td>9.3 (3M)</td>\n",
       "      <td>2h 22m</td>\n",
       "      <td>(3M</td>\n",
       "    </tr>\n",
       "    <tr>\n",
       "      <th>1</th>\n",
       "      <td>2. The Godfather</td>\n",
       "      <td>1972</td>\n",
       "      <td>9.2 (2.1M)</td>\n",
       "      <td>2h 55m</td>\n",
       "      <td>(2.1M</td>\n",
       "    </tr>\n",
       "    <tr>\n",
       "      <th>2</th>\n",
       "      <td>3. The Dark Knight</td>\n",
       "      <td>2008</td>\n",
       "      <td>9.0 (3M)</td>\n",
       "      <td>2h 32m</td>\n",
       "      <td>(3M</td>\n",
       "    </tr>\n",
       "    <tr>\n",
       "      <th>3</th>\n",
       "      <td>4. The Godfather Part II</td>\n",
       "      <td>1974</td>\n",
       "      <td>9.0 (1.4M)</td>\n",
       "      <td>3h 22m</td>\n",
       "      <td>(1.4M</td>\n",
       "    </tr>\n",
       "    <tr>\n",
       "      <th>4</th>\n",
       "      <td>5. 12 Angry Men</td>\n",
       "      <td>1957</td>\n",
       "      <td>9.0 (914K)</td>\n",
       "      <td>1h 36m</td>\n",
       "      <td>(914K</td>\n",
       "    </tr>\n",
       "  </tbody>\n",
       "</table>\n",
       "</div>"
      ],
      "text/plain": [
       "                         Title  Year IMDb Rating Runtime   Votes\n",
       "0  1. The Shawshank Redemption  1994    9.3 (3M)  2h 22m     (3M\n",
       "1             2. The Godfather  1972  9.2 (2.1M)  2h 55m   (2.1M\n",
       "2           3. The Dark Knight  2008    9.0 (3M)  2h 32m     (3M\n",
       "3     4. The Godfather Part II  1974  9.0 (1.4M)  3h 22m   (1.4M\n",
       "4              5. 12 Angry Men  1957  9.0 (914K)  1h 36m   (914K"
      ]
     },
     "execution_count": 8,
     "metadata": {},
     "output_type": "execute_result"
    }
   ],
   "source": [
    "imdb_df.head()"
   ]
  },
  {
   "cell_type": "markdown",
   "metadata": {},
   "source": [
    "1. in <b style='color:red'>Title</b> column we see it has numbers, So we strip by '.' then substr name and strip leading spaces.\n",
    "2. in <b style='color:red'>IMDb Rating</b> column we see it has vote included in the rating so we remove it by stripping it or by just substr of first 3 charecters.\n",
    "3. in <b style='color:red'>Votes</b> column in has '(' we need to remove it."
   ]
  },
  {
   "cell_type": "code",
   "execution_count": 9,
   "metadata": {},
   "outputs": [
    {
     "data": {
      "text/html": [
       "<div>\n",
       "<style scoped>\n",
       "    .dataframe tbody tr th:only-of-type {\n",
       "        vertical-align: middle;\n",
       "    }\n",
       "\n",
       "    .dataframe tbody tr th {\n",
       "        vertical-align: top;\n",
       "    }\n",
       "\n",
       "    .dataframe thead th {\n",
       "        text-align: right;\n",
       "    }\n",
       "</style>\n",
       "<table border=\"1\" class=\"dataframe\">\n",
       "  <thead>\n",
       "    <tr style=\"text-align: right;\">\n",
       "      <th></th>\n",
       "      <th>Title</th>\n",
       "      <th>Year</th>\n",
       "      <th>IMDb Rating</th>\n",
       "      <th>Runtime</th>\n",
       "      <th>Votes</th>\n",
       "    </tr>\n",
       "  </thead>\n",
       "  <tbody>\n",
       "    <tr>\n",
       "      <th>0</th>\n",
       "      <td>The Shawshank Redemption</td>\n",
       "      <td>1994</td>\n",
       "      <td>9.3 (3M)</td>\n",
       "      <td>2h 22m</td>\n",
       "      <td>(3M</td>\n",
       "    </tr>\n",
       "    <tr>\n",
       "      <th>1</th>\n",
       "      <td>The Godfather</td>\n",
       "      <td>1972</td>\n",
       "      <td>9.2 (2.1M)</td>\n",
       "      <td>2h 55m</td>\n",
       "      <td>(2.1M</td>\n",
       "    </tr>\n",
       "    <tr>\n",
       "      <th>2</th>\n",
       "      <td>The Dark Knight</td>\n",
       "      <td>2008</td>\n",
       "      <td>9.0 (3M)</td>\n",
       "      <td>2h 32m</td>\n",
       "      <td>(3M</td>\n",
       "    </tr>\n",
       "    <tr>\n",
       "      <th>3</th>\n",
       "      <td>The Godfather Part II</td>\n",
       "      <td>1974</td>\n",
       "      <td>9.0 (1.4M)</td>\n",
       "      <td>3h 22m</td>\n",
       "      <td>(1.4M</td>\n",
       "    </tr>\n",
       "    <tr>\n",
       "      <th>4</th>\n",
       "      <td>12 Angry Men</td>\n",
       "      <td>1957</td>\n",
       "      <td>9.0 (914K)</td>\n",
       "      <td>1h 36m</td>\n",
       "      <td>(914K</td>\n",
       "    </tr>\n",
       "  </tbody>\n",
       "</table>\n",
       "</div>"
      ],
      "text/plain": [
       "                      Title  Year IMDb Rating Runtime   Votes\n",
       "0  The Shawshank Redemption  1994    9.3 (3M)  2h 22m     (3M\n",
       "1             The Godfather  1972  9.2 (2.1M)  2h 55m   (2.1M\n",
       "2           The Dark Knight  2008    9.0 (3M)  2h 32m     (3M\n",
       "3     The Godfather Part II  1974  9.0 (1.4M)  3h 22m   (1.4M\n",
       "4              12 Angry Men  1957  9.0 (914K)  1h 36m   (914K"
      ]
     },
     "execution_count": 9,
     "metadata": {},
     "output_type": "execute_result"
    }
   ],
   "source": [
    "# Title column cleaning\n",
    "imdb_df[\"Title\"]=imdb_df[\"Title\"].str.split('.', n=1).str[1].str.strip()\n",
    "imdb_df.head()"
   ]
  },
  {
   "cell_type": "code",
   "execution_count": 10,
   "metadata": {},
   "outputs": [
    {
     "data": {
      "text/html": [
       "<div>\n",
       "<style scoped>\n",
       "    .dataframe tbody tr th:only-of-type {\n",
       "        vertical-align: middle;\n",
       "    }\n",
       "\n",
       "    .dataframe tbody tr th {\n",
       "        vertical-align: top;\n",
       "    }\n",
       "\n",
       "    .dataframe thead th {\n",
       "        text-align: right;\n",
       "    }\n",
       "</style>\n",
       "<table border=\"1\" class=\"dataframe\">\n",
       "  <thead>\n",
       "    <tr style=\"text-align: right;\">\n",
       "      <th></th>\n",
       "      <th>Title</th>\n",
       "      <th>Year</th>\n",
       "      <th>IMDb Rating</th>\n",
       "      <th>Runtime</th>\n",
       "      <th>Votes</th>\n",
       "    </tr>\n",
       "  </thead>\n",
       "  <tbody>\n",
       "    <tr>\n",
       "      <th>0</th>\n",
       "      <td>The Shawshank Redemption</td>\n",
       "      <td>1994</td>\n",
       "      <td>9.3</td>\n",
       "      <td>2h 22m</td>\n",
       "      <td>(3M</td>\n",
       "    </tr>\n",
       "    <tr>\n",
       "      <th>1</th>\n",
       "      <td>The Godfather</td>\n",
       "      <td>1972</td>\n",
       "      <td>9.2</td>\n",
       "      <td>2h 55m</td>\n",
       "      <td>(2.1M</td>\n",
       "    </tr>\n",
       "    <tr>\n",
       "      <th>2</th>\n",
       "      <td>The Dark Knight</td>\n",
       "      <td>2008</td>\n",
       "      <td>9.0</td>\n",
       "      <td>2h 32m</td>\n",
       "      <td>(3M</td>\n",
       "    </tr>\n",
       "    <tr>\n",
       "      <th>3</th>\n",
       "      <td>The Godfather Part II</td>\n",
       "      <td>1974</td>\n",
       "      <td>9.0</td>\n",
       "      <td>3h 22m</td>\n",
       "      <td>(1.4M</td>\n",
       "    </tr>\n",
       "    <tr>\n",
       "      <th>4</th>\n",
       "      <td>12 Angry Men</td>\n",
       "      <td>1957</td>\n",
       "      <td>9.0</td>\n",
       "      <td>1h 36m</td>\n",
       "      <td>(914K</td>\n",
       "    </tr>\n",
       "  </tbody>\n",
       "</table>\n",
       "</div>"
      ],
      "text/plain": [
       "                      Title  Year IMDb Rating Runtime   Votes\n",
       "0  The Shawshank Redemption  1994         9.3  2h 22m     (3M\n",
       "1             The Godfather  1972         9.2  2h 55m   (2.1M\n",
       "2           The Dark Knight  2008         9.0  2h 32m     (3M\n",
       "3     The Godfather Part II  1974         9.0  3h 22m   (1.4M\n",
       "4              12 Angry Men  1957         9.0  1h 36m   (914K"
      ]
     },
     "execution_count": 10,
     "metadata": {},
     "output_type": "execute_result"
    }
   ],
   "source": [
    "# IMDb Rating cleaning\n",
    "imdb_df[\"IMDb Rating\"] = imdb_df[\"IMDb Rating\"].str.split().str[0]\n",
    "imdb_df.head()"
   ]
  },
  {
   "cell_type": "code",
   "execution_count": 11,
   "metadata": {},
   "outputs": [
    {
     "data": {
      "text/html": [
       "<div>\n",
       "<style scoped>\n",
       "    .dataframe tbody tr th:only-of-type {\n",
       "        vertical-align: middle;\n",
       "    }\n",
       "\n",
       "    .dataframe tbody tr th {\n",
       "        vertical-align: top;\n",
       "    }\n",
       "\n",
       "    .dataframe thead th {\n",
       "        text-align: right;\n",
       "    }\n",
       "</style>\n",
       "<table border=\"1\" class=\"dataframe\">\n",
       "  <thead>\n",
       "    <tr style=\"text-align: right;\">\n",
       "      <th></th>\n",
       "      <th>Title</th>\n",
       "      <th>Year</th>\n",
       "      <th>IMDb Rating</th>\n",
       "      <th>Runtime</th>\n",
       "      <th>Votes</th>\n",
       "    </tr>\n",
       "  </thead>\n",
       "  <tbody>\n",
       "    <tr>\n",
       "      <th>0</th>\n",
       "      <td>The Shawshank Redemption</td>\n",
       "      <td>1994</td>\n",
       "      <td>9.3</td>\n",
       "      <td>2h 22m</td>\n",
       "      <td>3M</td>\n",
       "    </tr>\n",
       "    <tr>\n",
       "      <th>1</th>\n",
       "      <td>The Godfather</td>\n",
       "      <td>1972</td>\n",
       "      <td>9.2</td>\n",
       "      <td>2h 55m</td>\n",
       "      <td>2.1M</td>\n",
       "    </tr>\n",
       "    <tr>\n",
       "      <th>2</th>\n",
       "      <td>The Dark Knight</td>\n",
       "      <td>2008</td>\n",
       "      <td>9.0</td>\n",
       "      <td>2h 32m</td>\n",
       "      <td>3M</td>\n",
       "    </tr>\n",
       "    <tr>\n",
       "      <th>3</th>\n",
       "      <td>The Godfather Part II</td>\n",
       "      <td>1974</td>\n",
       "      <td>9.0</td>\n",
       "      <td>3h 22m</td>\n",
       "      <td>1.4M</td>\n",
       "    </tr>\n",
       "    <tr>\n",
       "      <th>4</th>\n",
       "      <td>12 Angry Men</td>\n",
       "      <td>1957</td>\n",
       "      <td>9.0</td>\n",
       "      <td>1h 36m</td>\n",
       "      <td>914K</td>\n",
       "    </tr>\n",
       "  </tbody>\n",
       "</table>\n",
       "</div>"
      ],
      "text/plain": [
       "                      Title  Year IMDb Rating Runtime Votes\n",
       "0  The Shawshank Redemption  1994         9.3  2h 22m    3M\n",
       "1             The Godfather  1972         9.2  2h 55m  2.1M\n",
       "2           The Dark Knight  2008         9.0  2h 32m    3M\n",
       "3     The Godfather Part II  1974         9.0  3h 22m  1.4M\n",
       "4              12 Angry Men  1957         9.0  1h 36m  914K"
      ]
     },
     "execution_count": 11,
     "metadata": {},
     "output_type": "execute_result"
    }
   ],
   "source": [
    "# Votes cleaning\n",
    "imdb_df[\"Votes\"] = imdb_df[\"Votes\"].str.split('(').str[1]\n",
    "imdb_df.head()"
   ]
  },
  {
   "cell_type": "markdown",
   "metadata": {},
   "source": [
    "Now lets Standardize the imbd dataset columns"
   ]
  },
  {
   "cell_type": "code",
   "execution_count": 12,
   "metadata": {},
   "outputs": [
    {
     "name": "stdout",
     "output_type": "stream",
     "text": [
      "<class 'pandas.core.frame.DataFrame'>\n",
      "RangeIndex: 250 entries, 0 to 249\n",
      "Data columns (total 5 columns):\n",
      " #   Column       Non-Null Count  Dtype \n",
      "---  ------       --------------  ----- \n",
      " 0   Title        250 non-null    object\n",
      " 1   Year         250 non-null    int64 \n",
      " 2   IMDb Rating  250 non-null    object\n",
      " 3   Runtime      250 non-null    object\n",
      " 4   Votes        250 non-null    object\n",
      "dtypes: int64(1), object(4)\n",
      "memory usage: 9.9+ KB\n"
     ]
    }
   ],
   "source": [
    "imdb_df.info()"
   ]
  },
  {
   "cell_type": "code",
   "execution_count": 13,
   "metadata": {},
   "outputs": [
    {
     "data": {
      "text/plain": [
       "Votes\n",
       "K    182\n",
       "M     68\n",
       "Name: count, dtype: int64"
      ]
     },
     "execution_count": 13,
     "metadata": {},
     "output_type": "execute_result"
    }
   ],
   "source": [
    "imdb_df['Votes'].str[-1].value_counts()"
   ]
  },
  {
   "cell_type": "markdown",
   "metadata": {},
   "source": [
    "1. the <b style='color:red'>IMDb Rating</b> column is of type object we convert it to float.\n",
    "2. in <b style='color:red'>Runtime</b> column, we standardize the value to minutes and its type to int.\n",
    "3. in <b style='color:red'>Votes</b> column, we have 'M','K' we make it as number and convert it's type to int"
   ]
  },
  {
   "cell_type": "code",
   "execution_count": 14,
   "metadata": {},
   "outputs": [
    {
     "name": "stdout",
     "output_type": "stream",
     "text": [
      "<class 'pandas.core.frame.DataFrame'>\n",
      "RangeIndex: 250 entries, 0 to 249\n",
      "Data columns (total 5 columns):\n",
      " #   Column       Non-Null Count  Dtype  \n",
      "---  ------       --------------  -----  \n",
      " 0   Title        250 non-null    object \n",
      " 1   Year         250 non-null    int64  \n",
      " 2   IMDb Rating  250 non-null    float64\n",
      " 3   Runtime      250 non-null    object \n",
      " 4   Votes        250 non-null    object \n",
      "dtypes: float64(1), int64(1), object(3)\n",
      "memory usage: 9.9+ KB\n"
     ]
    }
   ],
   "source": [
    "# IMDb Rating column\n",
    "imdb_df[\"IMDb Rating\"] = imdb_df[\"IMDb Rating\"].astype(float)\n",
    "imdb_df.info()"
   ]
  },
  {
   "cell_type": "code",
   "execution_count": 15,
   "metadata": {},
   "outputs": [
    {
     "name": "stdout",
     "output_type": "stream",
     "text": [
      "<class 'pandas.core.frame.DataFrame'>\n",
      "RangeIndex: 250 entries, 0 to 249\n",
      "Data columns (total 5 columns):\n",
      " #   Column       Non-Null Count  Dtype  \n",
      "---  ------       --------------  -----  \n",
      " 0   Title        250 non-null    object \n",
      " 1   Year         250 non-null    int64  \n",
      " 2   IMDb Rating  250 non-null    float64\n",
      " 3   Runtime      250 non-null    int64  \n",
      " 4   Votes        250 non-null    object \n",
      "dtypes: float64(1), int64(2), object(2)\n",
      "memory usage: 9.9+ KB\n",
      "None\n"
     ]
    }
   ],
   "source": [
    "# Runtime column\n",
    "def convert_to_minutes(runtime):\n",
    "    if pd.isna(runtime):\n",
    "        return None  # Handle missing values\n",
    "    time_parts = runtime.split()\n",
    "    minutes = 0\n",
    "    for part in time_parts:\n",
    "        if 'h' in part:\n",
    "            minutes += int(part.replace('h', '')) * 60  # Convert hours to minutes\n",
    "        elif 'm' in part:\n",
    "            minutes += int(part.replace('m', ''))  # Add minutes\n",
    "    return minutes\n",
    "\n",
    "imdb_df[\"Runtime\"] = imdb_df[\"Runtime\"].apply(convert_to_minutes)\n",
    "print(imdb_df.info())"
   ]
  },
  {
   "cell_type": "code",
   "execution_count": 16,
   "metadata": {},
   "outputs": [],
   "source": [
    "# Votes column\n",
    "def convert_votes(vote):\n",
    "    if pd.isna(vote):\n",
    "        return None  # Handle missing values\n",
    "    vote = vote.upper().replace(\",\", \"\")  # Remove commas if present\n",
    "    if \"M\" in vote:\n",
    "        return int(float(vote.replace(\"M\", \"\")) * 1000000)\n",
    "    elif \"K\" in vote:\n",
    "        return int(float(vote.replace(\"K\", \"\")) * 1000)\n",
    "    return int(vote)  # If already a number\n",
    "\n",
    "imdb_df[\"Votes\"] = imdb_df[\"Votes\"].apply(convert_votes)\n"
   ]
  },
  {
   "cell_type": "code",
   "execution_count": 17,
   "metadata": {},
   "outputs": [
    {
     "data": {
      "text/html": [
       "<div>\n",
       "<style scoped>\n",
       "    .dataframe tbody tr th:only-of-type {\n",
       "        vertical-align: middle;\n",
       "    }\n",
       "\n",
       "    .dataframe tbody tr th {\n",
       "        vertical-align: top;\n",
       "    }\n",
       "\n",
       "    .dataframe thead th {\n",
       "        text-align: right;\n",
       "    }\n",
       "</style>\n",
       "<table border=\"1\" class=\"dataframe\">\n",
       "  <thead>\n",
       "    <tr style=\"text-align: right;\">\n",
       "      <th></th>\n",
       "      <th>Title</th>\n",
       "      <th>Year</th>\n",
       "      <th>IMDb Rating</th>\n",
       "      <th>Runtime</th>\n",
       "      <th>Votes</th>\n",
       "    </tr>\n",
       "  </thead>\n",
       "  <tbody>\n",
       "    <tr>\n",
       "      <th>0</th>\n",
       "      <td>The Shawshank Redemption</td>\n",
       "      <td>1994</td>\n",
       "      <td>9.3</td>\n",
       "      <td>142</td>\n",
       "      <td>3000000</td>\n",
       "    </tr>\n",
       "    <tr>\n",
       "      <th>1</th>\n",
       "      <td>The Godfather</td>\n",
       "      <td>1972</td>\n",
       "      <td>9.2</td>\n",
       "      <td>175</td>\n",
       "      <td>2100000</td>\n",
       "    </tr>\n",
       "    <tr>\n",
       "      <th>2</th>\n",
       "      <td>The Dark Knight</td>\n",
       "      <td>2008</td>\n",
       "      <td>9.0</td>\n",
       "      <td>152</td>\n",
       "      <td>3000000</td>\n",
       "    </tr>\n",
       "    <tr>\n",
       "      <th>3</th>\n",
       "      <td>The Godfather Part II</td>\n",
       "      <td>1974</td>\n",
       "      <td>9.0</td>\n",
       "      <td>202</td>\n",
       "      <td>1400000</td>\n",
       "    </tr>\n",
       "    <tr>\n",
       "      <th>4</th>\n",
       "      <td>12 Angry Men</td>\n",
       "      <td>1957</td>\n",
       "      <td>9.0</td>\n",
       "      <td>96</td>\n",
       "      <td>914000</td>\n",
       "    </tr>\n",
       "  </tbody>\n",
       "</table>\n",
       "</div>"
      ],
      "text/plain": [
       "                      Title  Year  IMDb Rating  Runtime    Votes\n",
       "0  The Shawshank Redemption  1994          9.3      142  3000000\n",
       "1             The Godfather  1972          9.2      175  2100000\n",
       "2           The Dark Knight  2008          9.0      152  3000000\n",
       "3     The Godfather Part II  1974          9.0      202  1400000\n",
       "4              12 Angry Men  1957          9.0       96   914000"
      ]
     },
     "execution_count": 17,
     "metadata": {},
     "output_type": "execute_result"
    }
   ],
   "source": [
    "imdb_df.head()"
   ]
  },
  {
   "cell_type": "code",
   "execution_count": 18,
   "metadata": {},
   "outputs": [
    {
     "name": "stdout",
     "output_type": "stream",
     "text": [
      "<class 'pandas.core.frame.DataFrame'>\n",
      "RangeIndex: 250 entries, 0 to 249\n",
      "Data columns (total 5 columns):\n",
      " #   Column       Non-Null Count  Dtype  \n",
      "---  ------       --------------  -----  \n",
      " 0   Title        250 non-null    object \n",
      " 1   Year         250 non-null    int64  \n",
      " 2   IMDb Rating  250 non-null    float64\n",
      " 3   Runtime      250 non-null    int64  \n",
      " 4   Votes        250 non-null    int64  \n",
      "dtypes: float64(1), int64(3), object(1)\n",
      "memory usage: 9.9+ KB\n"
     ]
    }
   ],
   "source": [
    "imdb_df.info()"
   ]
  },
  {
   "cell_type": "markdown",
   "metadata": {},
   "source": [
    "### Data Cleaning and Standardizing of <b style='color : green'>METACRITIC</b> DATASET"
   ]
  },
  {
   "cell_type": "markdown",
   "metadata": {},
   "source": [
    "METACRITIC dataset columns looks clean, need to check data types"
   ]
  },
  {
   "cell_type": "code",
   "execution_count": 19,
   "metadata": {},
   "outputs": [
    {
     "name": "stdout",
     "output_type": "stream",
     "text": [
      "<class 'pandas.core.frame.DataFrame'>\n",
      "RangeIndex: 15005 entries, 0 to 15004\n",
      "Data columns (total 5 columns):\n",
      " #   Column             Non-Null Count  Dtype  \n",
      "---  ------             --------------  -----  \n",
      " 0   Title              15005 non-null  object \n",
      " 1   Year               15005 non-null  float64\n",
      " 2   Metascore          15005 non-null  float64\n",
      " 3   MPAA Rating        15005 non-null  object \n",
      " 4   Short Description  15005 non-null  object \n",
      "dtypes: float64(2), object(3)\n",
      "memory usage: 586.3+ KB\n"
     ]
    }
   ],
   "source": [
    "mc_df.info()"
   ]
  },
  {
   "cell_type": "code",
   "execution_count": 20,
   "metadata": {},
   "outputs": [],
   "source": [
    "# convert year to int\n",
    "mc_df['Year']= mc_df['Year'].astype(int)"
   ]
  },
  {
   "cell_type": "code",
   "execution_count": 21,
   "metadata": {},
   "outputs": [
    {
     "data": {
      "text/html": [
       "<div>\n",
       "<style scoped>\n",
       "    .dataframe tbody tr th:only-of-type {\n",
       "        vertical-align: middle;\n",
       "    }\n",
       "\n",
       "    .dataframe tbody tr th {\n",
       "        vertical-align: top;\n",
       "    }\n",
       "\n",
       "    .dataframe thead th {\n",
       "        text-align: right;\n",
       "    }\n",
       "</style>\n",
       "<table border=\"1\" class=\"dataframe\">\n",
       "  <thead>\n",
       "    <tr style=\"text-align: right;\">\n",
       "      <th></th>\n",
       "      <th>Title</th>\n",
       "      <th>Year</th>\n",
       "      <th>Metascore</th>\n",
       "      <th>MPAA Rating</th>\n",
       "      <th>Short Description</th>\n",
       "    </tr>\n",
       "  </thead>\n",
       "  <tbody>\n",
       "    <tr>\n",
       "      <th>0</th>\n",
       "      <td>Dekalog (1988)</td>\n",
       "      <td>1996</td>\n",
       "      <td>100.0</td>\n",
       "      <td>TV-MA</td>\n",
       "      <td>This masterwork by Krzysztof Kieślowski is one...</td>\n",
       "    </tr>\n",
       "    <tr>\n",
       "      <th>1</th>\n",
       "      <td>The Conformist</td>\n",
       "      <td>1970</td>\n",
       "      <td>100.0</td>\n",
       "      <td>R</td>\n",
       "      <td>Set in Rome in the 1930s, this re-release of B...</td>\n",
       "    </tr>\n",
       "    <tr>\n",
       "      <th>2</th>\n",
       "      <td>The Leopard (re-release)</td>\n",
       "      <td>2004</td>\n",
       "      <td>100.0</td>\n",
       "      <td>PG</td>\n",
       "      <td>Set in Sicily in 1860, Luchino Visconti's spec...</td>\n",
       "    </tr>\n",
       "    <tr>\n",
       "      <th>3</th>\n",
       "      <td>The Godfather</td>\n",
       "      <td>1972</td>\n",
       "      <td>100.0</td>\n",
       "      <td>TV-14</td>\n",
       "      <td>Francis Ford Coppola's epic features Marlon Br...</td>\n",
       "    </tr>\n",
       "    <tr>\n",
       "      <th>4</th>\n",
       "      <td>Lawrence of Arabia (re-release)</td>\n",
       "      <td>2002</td>\n",
       "      <td>100.0</td>\n",
       "      <td>Approved</td>\n",
       "      <td>The 40th anniversary re-release of David Lean'...</td>\n",
       "    </tr>\n",
       "  </tbody>\n",
       "</table>\n",
       "</div>"
      ],
      "text/plain": [
       "                             Title  Year  Metascore MPAA Rating  \\\n",
       "0                   Dekalog (1988)  1996      100.0       TV-MA   \n",
       "1                   The Conformist  1970      100.0           R   \n",
       "2         The Leopard (re-release)  2004      100.0          PG   \n",
       "3                    The Godfather  1972      100.0       TV-14   \n",
       "4  Lawrence of Arabia (re-release)  2002      100.0    Approved   \n",
       "\n",
       "                                   Short Description  \n",
       "0  This masterwork by Krzysztof Kieślowski is one...  \n",
       "1  Set in Rome in the 1930s, this re-release of B...  \n",
       "2  Set in Sicily in 1860, Luchino Visconti's spec...  \n",
       "3  Francis Ford Coppola's epic features Marlon Br...  \n",
       "4  The 40th anniversary re-release of David Lean'...  "
      ]
     },
     "execution_count": 21,
     "metadata": {},
     "output_type": "execute_result"
    }
   ],
   "source": [
    "mc_df.head()"
   ]
  },
  {
   "cell_type": "markdown",
   "metadata": {},
   "source": [
    "# Merge data from both datasets "
   ]
  },
  {
   "cell_type": "markdown",
   "metadata": {},
   "source": [
    "we will use 'INNER' join as it would be helpful to have common datapoints and we can worked further"
   ]
  },
  {
   "cell_type": "code",
   "execution_count": 22,
   "metadata": {},
   "outputs": [
    {
     "name": "stdout",
     "output_type": "stream",
     "text": [
      "Merged dataset shape: (238, 9)\n"
     ]
    },
    {
     "data": {
      "text/html": [
       "<div>\n",
       "<style scoped>\n",
       "    .dataframe tbody tr th:only-of-type {\n",
       "        vertical-align: middle;\n",
       "    }\n",
       "\n",
       "    .dataframe tbody tr th {\n",
       "        vertical-align: top;\n",
       "    }\n",
       "\n",
       "    .dataframe thead th {\n",
       "        text-align: right;\n",
       "    }\n",
       "</style>\n",
       "<table border=\"1\" class=\"dataframe\">\n",
       "  <thead>\n",
       "    <tr style=\"text-align: right;\">\n",
       "      <th></th>\n",
       "      <th>Title</th>\n",
       "      <th>Year_imdb</th>\n",
       "      <th>IMDb Rating</th>\n",
       "      <th>Runtime</th>\n",
       "      <th>Votes</th>\n",
       "      <th>Year_mc</th>\n",
       "      <th>Metascore</th>\n",
       "      <th>MPAA Rating</th>\n",
       "      <th>Short Description</th>\n",
       "    </tr>\n",
       "  </thead>\n",
       "  <tbody>\n",
       "    <tr>\n",
       "      <th>0</th>\n",
       "      <td>The Shawshank Redemption</td>\n",
       "      <td>1994</td>\n",
       "      <td>9.3</td>\n",
       "      <td>142</td>\n",
       "      <td>3000000</td>\n",
       "      <td>1994</td>\n",
       "      <td>82.0</td>\n",
       "      <td>TV-14</td>\n",
       "      <td>Wrongly convicted, Andy Dufresne (Tim Robbins)...</td>\n",
       "    </tr>\n",
       "    <tr>\n",
       "      <th>1</th>\n",
       "      <td>The Godfather</td>\n",
       "      <td>1972</td>\n",
       "      <td>9.2</td>\n",
       "      <td>175</td>\n",
       "      <td>2100000</td>\n",
       "      <td>1972</td>\n",
       "      <td>100.0</td>\n",
       "      <td>TV-14</td>\n",
       "      <td>Francis Ford Coppola's epic features Marlon Br...</td>\n",
       "    </tr>\n",
       "    <tr>\n",
       "      <th>2</th>\n",
       "      <td>The Dark Knight</td>\n",
       "      <td>2008</td>\n",
       "      <td>9.0</td>\n",
       "      <td>152</td>\n",
       "      <td>3000000</td>\n",
       "      <td>2008</td>\n",
       "      <td>84.0</td>\n",
       "      <td>TV-14</td>\n",
       "      <td>Batman raises the stakes in his war on crime. ...</td>\n",
       "    </tr>\n",
       "    <tr>\n",
       "      <th>3</th>\n",
       "      <td>12 Angry Men</td>\n",
       "      <td>1957</td>\n",
       "      <td>9.0</td>\n",
       "      <td>96</td>\n",
       "      <td>914000</td>\n",
       "      <td>1957</td>\n",
       "      <td>97.0</td>\n",
       "      <td>Approved</td>\n",
       "      <td>12 Angry Men, by Sidney Lumet, is a behind-clo...</td>\n",
       "    </tr>\n",
       "    <tr>\n",
       "      <th>4</th>\n",
       "      <td>The Lord of the Rings: The Return of the King</td>\n",
       "      <td>2003</td>\n",
       "      <td>9.0</td>\n",
       "      <td>201</td>\n",
       "      <td>2100000</td>\n",
       "      <td>2003</td>\n",
       "      <td>94.0</td>\n",
       "      <td>PG-13</td>\n",
       "      <td>Sauron's forces have laid siege to Minas Tirit...</td>\n",
       "    </tr>\n",
       "  </tbody>\n",
       "</table>\n",
       "</div>"
      ],
      "text/plain": [
       "                                           Title  Year_imdb  IMDb Rating  \\\n",
       "0                       The Shawshank Redemption       1994          9.3   \n",
       "1                                  The Godfather       1972          9.2   \n",
       "2                                The Dark Knight       2008          9.0   \n",
       "3                                   12 Angry Men       1957          9.0   \n",
       "4  The Lord of the Rings: The Return of the King       2003          9.0   \n",
       "\n",
       "   Runtime    Votes  Year_mc  Metascore MPAA Rating  \\\n",
       "0      142  3000000     1994       82.0       TV-14   \n",
       "1      175  2100000     1972      100.0       TV-14   \n",
       "2      152  3000000     2008       84.0       TV-14   \n",
       "3       96   914000     1957       97.0    Approved   \n",
       "4      201  2100000     2003       94.0       PG-13   \n",
       "\n",
       "                                   Short Description  \n",
       "0  Wrongly convicted, Andy Dufresne (Tim Robbins)...  \n",
       "1  Francis Ford Coppola's epic features Marlon Br...  \n",
       "2  Batman raises the stakes in his war on crime. ...  \n",
       "3  12 Angry Men, by Sidney Lumet, is a behind-clo...  \n",
       "4  Sauron's forces have laid siege to Minas Tirit...  "
      ]
     },
     "execution_count": 22,
     "metadata": {},
     "output_type": "execute_result"
    }
   ],
   "source": [
    "merged_df = imdb_df.merge(mc_df, on=\"Title\", how=\"inner\",suffixes=('_imdb', '_mc'))  \n",
    "print(\"Merged dataset shape:\", merged_df.shape)\n",
    "\n",
    "merged_df.head()"
   ]
  },
  {
   "cell_type": "code",
   "execution_count": 23,
   "metadata": {},
   "outputs": [],
   "source": [
    "# clean merged_df\n",
    "# we can remove any of duplicate columns YEAR_imdb, YEAR_mc and rename it to YEAR\n",
    "merged_df.drop(columns=['Year_mc'], inplace=True)\n",
    "merged_df.rename(columns={'Year_imdb': 'YEAR'}, inplace=True)"
   ]
  },
  {
   "cell_type": "code",
   "execution_count": 24,
   "metadata": {},
   "outputs": [
    {
     "data": {
      "text/html": [
       "<div>\n",
       "<style scoped>\n",
       "    .dataframe tbody tr th:only-of-type {\n",
       "        vertical-align: middle;\n",
       "    }\n",
       "\n",
       "    .dataframe tbody tr th {\n",
       "        vertical-align: top;\n",
       "    }\n",
       "\n",
       "    .dataframe thead th {\n",
       "        text-align: right;\n",
       "    }\n",
       "</style>\n",
       "<table border=\"1\" class=\"dataframe\">\n",
       "  <thead>\n",
       "    <tr style=\"text-align: right;\">\n",
       "      <th></th>\n",
       "      <th>Title</th>\n",
       "      <th>YEAR</th>\n",
       "      <th>IMDb Rating</th>\n",
       "      <th>Runtime</th>\n",
       "      <th>Votes</th>\n",
       "      <th>Metascore</th>\n",
       "      <th>MPAA Rating</th>\n",
       "      <th>Short Description</th>\n",
       "    </tr>\n",
       "  </thead>\n",
       "  <tbody>\n",
       "    <tr>\n",
       "      <th>0</th>\n",
       "      <td>The Shawshank Redemption</td>\n",
       "      <td>1994</td>\n",
       "      <td>9.3</td>\n",
       "      <td>142</td>\n",
       "      <td>3000000</td>\n",
       "      <td>82.0</td>\n",
       "      <td>TV-14</td>\n",
       "      <td>Wrongly convicted, Andy Dufresne (Tim Robbins)...</td>\n",
       "    </tr>\n",
       "    <tr>\n",
       "      <th>1</th>\n",
       "      <td>The Godfather</td>\n",
       "      <td>1972</td>\n",
       "      <td>9.2</td>\n",
       "      <td>175</td>\n",
       "      <td>2100000</td>\n",
       "      <td>100.0</td>\n",
       "      <td>TV-14</td>\n",
       "      <td>Francis Ford Coppola's epic features Marlon Br...</td>\n",
       "    </tr>\n",
       "    <tr>\n",
       "      <th>2</th>\n",
       "      <td>The Dark Knight</td>\n",
       "      <td>2008</td>\n",
       "      <td>9.0</td>\n",
       "      <td>152</td>\n",
       "      <td>3000000</td>\n",
       "      <td>84.0</td>\n",
       "      <td>TV-14</td>\n",
       "      <td>Batman raises the stakes in his war on crime. ...</td>\n",
       "    </tr>\n",
       "    <tr>\n",
       "      <th>3</th>\n",
       "      <td>12 Angry Men</td>\n",
       "      <td>1957</td>\n",
       "      <td>9.0</td>\n",
       "      <td>96</td>\n",
       "      <td>914000</td>\n",
       "      <td>97.0</td>\n",
       "      <td>Approved</td>\n",
       "      <td>12 Angry Men, by Sidney Lumet, is a behind-clo...</td>\n",
       "    </tr>\n",
       "    <tr>\n",
       "      <th>4</th>\n",
       "      <td>The Lord of the Rings: The Return of the King</td>\n",
       "      <td>2003</td>\n",
       "      <td>9.0</td>\n",
       "      <td>201</td>\n",
       "      <td>2100000</td>\n",
       "      <td>94.0</td>\n",
       "      <td>PG-13</td>\n",
       "      <td>Sauron's forces have laid siege to Minas Tirit...</td>\n",
       "    </tr>\n",
       "  </tbody>\n",
       "</table>\n",
       "</div>"
      ],
      "text/plain": [
       "                                           Title  YEAR  IMDb Rating  Runtime  \\\n",
       "0                       The Shawshank Redemption  1994          9.3      142   \n",
       "1                                  The Godfather  1972          9.2      175   \n",
       "2                                The Dark Knight  2008          9.0      152   \n",
       "3                                   12 Angry Men  1957          9.0       96   \n",
       "4  The Lord of the Rings: The Return of the King  2003          9.0      201   \n",
       "\n",
       "     Votes  Metascore MPAA Rating  \\\n",
       "0  3000000       82.0       TV-14   \n",
       "1  2100000      100.0       TV-14   \n",
       "2  3000000       84.0       TV-14   \n",
       "3   914000       97.0    Approved   \n",
       "4  2100000       94.0       PG-13   \n",
       "\n",
       "                                   Short Description  \n",
       "0  Wrongly convicted, Andy Dufresne (Tim Robbins)...  \n",
       "1  Francis Ford Coppola's epic features Marlon Br...  \n",
       "2  Batman raises the stakes in his war on crime. ...  \n",
       "3  12 Angry Men, by Sidney Lumet, is a behind-clo...  \n",
       "4  Sauron's forces have laid siege to Minas Tirit...  "
      ]
     },
     "execution_count": 24,
     "metadata": {},
     "output_type": "execute_result"
    }
   ],
   "source": [
    "merged_df.head()"
   ]
  },
  {
   "cell_type": "code",
   "execution_count": 25,
   "metadata": {},
   "outputs": [
    {
     "name": "stdout",
     "output_type": "stream",
     "text": [
      "<class 'pandas.core.frame.DataFrame'>\n",
      "RangeIndex: 238 entries, 0 to 237\n",
      "Data columns (total 8 columns):\n",
      " #   Column             Non-Null Count  Dtype  \n",
      "---  ------             --------------  -----  \n",
      " 0   Title              238 non-null    object \n",
      " 1   YEAR               238 non-null    int64  \n",
      " 2   IMDb Rating        238 non-null    float64\n",
      " 3   Runtime            238 non-null    int64  \n",
      " 4   Votes              238 non-null    int64  \n",
      " 5   Metascore          238 non-null    float64\n",
      " 6   MPAA Rating        238 non-null    object \n",
      " 7   Short Description  238 non-null    object \n",
      "dtypes: float64(2), int64(3), object(3)\n",
      "memory usage: 15.0+ KB\n"
     ]
    }
   ],
   "source": [
    "merged_df.info()"
   ]
  },
  {
   "cell_type": "code",
   "execution_count": 26,
   "metadata": {},
   "outputs": [],
   "source": [
    "merged_df.to_csv(\"merged_movies.csv\", index=False)"
   ]
  }
 ],
 "metadata": {
  "kernelspec": {
   "display_name": "Python 3 (ipykernel)",
   "language": "python",
   "name": "python3"
  },
  "language_info": {
   "codemirror_mode": {
    "name": "ipython",
    "version": 3
   },
   "file_extension": ".py",
   "mimetype": "text/x-python",
   "name": "python",
   "nbconvert_exporter": "python",
   "pygments_lexer": "ipython3",
   "version": "3.12.4"
  }
 },
 "nbformat": 4,
 "nbformat_minor": 4
}
